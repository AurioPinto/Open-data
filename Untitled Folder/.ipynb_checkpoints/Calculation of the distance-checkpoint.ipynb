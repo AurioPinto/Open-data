{
 "cells": [
  {
   "cell_type": "code",
   "execution_count": 82,
   "metadata": {},
   "outputs": [
    {
     "name": "stdout",
     "output_type": "stream",
     "text": [
      "C:\\Users\\win\n"
     ]
    }
   ],
   "source": [
    "import os\n",
    "print(os.path.expanduser(\"~\"))"
   ]
  },
  {
   "cell_type": "code",
   "execution_count": 90,
   "metadata": {},
   "outputs": [],
   "source": [
    "import sys\n",
    "import pandas as pd\n",
    "import math\n",
    "import matplotlib.pyplot as plt\n",
    "import time\n",
    "import numpy as np"
   ]
  },
  {
   "cell_type": "code",
   "execution_count": 91,
   "metadata": {},
   "outputs": [],
   "source": [
    "EARTH_REDIUS = 6378.137\n",
    "pi=3.14\n",
    "level1=10\n",
    "level2=15\n",
    "level3=25\n",
    "level4=35"
   ]
  },
  {
   "cell_type": "code",
   "execution_count": 92,
   "metadata": {},
   "outputs": [],
   "source": [
    "def rad(d):\n",
    "    return d * pi / 180.0"
   ]
  },
  {
   "cell_type": "code",
   "execution_count": 93,
   "metadata": {},
   "outputs": [],
   "source": [
    "\n",
    "def getDistance(lat1, lng1, lat2, lng2):\n",
    "    radLat1 = rad(lat1)\n",
    "    radLat2 = rad(lat2)\n",
    "    a = radLat1 - radLat2\n",
    "    b = rad(lng1) - rad(lng2)\n",
    "    s = 2 * math.asin(math.sqrt(math.pow(math.sin(a/2), 2) + math.cos(radLat1) * math.cos(radLat2) * math.pow(math.sin(b/2), 2)))\n",
    "    s = s * EARTH_REDIUS\n",
    "    return s "
   ]
  },
  {
   "cell_type": "code",
   "execution_count": 94,
   "metadata": {},
   "outputs": [],
   "source": [
    "file=pd.read_csv('C:\\\\Users\\\\win\\Documents\\\\Thesis\\\\Data\\\\source data\\\\gps_20161101.csv')"
   ]
  },
  {
   "cell_type": "code",
   "execution_count": 95,
   "metadata": {},
   "outputs": [],
   "source": [
    "df=pd.DataFrame(file)"
   ]
  },
  {
   "cell_type": "code",
   "execution_count": 96,
   "metadata": {},
   "outputs": [],
   "source": [
    "lng1=df.iloc[0,3]\n",
    "lat1=df.iloc[0,4]\n",
    "time1=df.iloc[0,2]\n",
    "lng2=df.iloc[0,3]\n",
    "lat2=df.iloc[0,4]\n",
    "time2=0"
   ]
  },
  {
   "cell_type": "code",
   "execution_count": null,
   "metadata": {},
   "outputs": [],
   "source": [
    "df['velocity']=None"
   ]
  },
  {
   "cell_type": "code",
   "execution_count": 72,
   "metadata": {},
   "outputs": [
    {
     "data": {
      "text/plain": [
       "0        None\n",
       "1        None\n",
       "2        None\n",
       "3        None\n",
       "4        None\n",
       "5        None\n",
       "6        None\n",
       "7        None\n",
       "8        None\n",
       "9        None\n",
       "10       None\n",
       "11       None\n",
       "12       None\n",
       "13       None\n",
       "14       None\n",
       "15       None\n",
       "16       None\n",
       "17       None\n",
       "18       None\n",
       "19       None\n",
       "20       None\n",
       "21       None\n",
       "22       None\n",
       "23       None\n",
       "24       None\n",
       "25       None\n",
       "26       None\n",
       "27       None\n",
       "28       None\n",
       "29       None\n",
       "         ... \n",
       "13303    None\n",
       "13304    None\n",
       "13305    None\n",
       "13306    None\n",
       "13307    None\n",
       "13308    None\n",
       "13309    None\n",
       "13310    None\n",
       "13311    None\n",
       "13312    None\n",
       "13313    None\n",
       "13314    None\n",
       "13315    None\n",
       "13316    None\n",
       "13317    None\n",
       "13318    None\n",
       "13319    None\n",
       "13320    None\n",
       "13321    None\n",
       "13322    None\n",
       "13323    None\n",
       "13324    None\n",
       "13325    None\n",
       "13326    None\n",
       "13327    None\n",
       "13328    None\n",
       "13329    None\n",
       "13330    None\n",
       "13331    None\n",
       "13332    None\n",
       "Name: CrowdLevel, Length: 13333, dtype: object"
      ]
     },
     "execution_count": 72,
     "metadata": {},
     "output_type": "execute_result"
    }
   ],
   "source": [
    "df['CrowdLevel']"
   ]
  },
  {
   "cell_type": "code",
   "execution_count": 73,
   "metadata": {},
   "outputs": [],
   "source": [
    "df['tm_wday']=None"
   ]
  },
  {
   "cell_type": "code",
   "execution_count": 74,
   "metadata": {},
   "outputs": [],
   "source": [
    "df['tm_hour']=None"
   ]
  },
  {
   "cell_type": "code",
   "execution_count": null,
   "metadata": {},
   "outputs": [],
   "source": [
    "lng1=lng2"
   ]
  },
  {
   "cell_type": "code",
   "execution_count": 3,
   "metadata": {},
   "outputs": [
    {
     "ename": "NameError",
     "evalue": "name 'pd' is not defined",
     "output_type": "error",
     "traceback": [
      "\u001b[1;31m---------------------------------------------------------------------------\u001b[0m",
      "\u001b[1;31mNameError\u001b[0m                                 Traceback (most recent call last)",
      "\u001b[1;32m<ipython-input-3-d06ab3156d27>\u001b[0m in \u001b[0;36m<module>\u001b[1;34m\u001b[0m\n\u001b[0;32m      1\u001b[0m \u001b[1;33m\u001b[0m\u001b[0m\n\u001b[1;32m----> 2\u001b[1;33m \u001b[0mfile\u001b[0m\u001b[1;33m=\u001b[0m\u001b[0mpd\u001b[0m\u001b[1;33m.\u001b[0m\u001b[0mread_csv\u001b[0m\u001b[1;33m(\u001b[0m\u001b[1;34m'C:\\\\Users\\\\win\\Documents\\\\Thesis\\\\Data\\\\source data\\\\gps_20161101.csv'\u001b[0m\u001b[1;33m)\u001b[0m\u001b[1;33m\u001b[0m\u001b[1;33m\u001b[0m\u001b[0m\n\u001b[0m\u001b[0;32m      3\u001b[0m \u001b[0mdf\u001b[0m\u001b[1;33m=\u001b[0m\u001b[0mpd\u001b[0m\u001b[1;33m.\u001b[0m\u001b[0mDataFrame\u001b[0m\u001b[1;33m(\u001b[0m\u001b[0mfile\u001b[0m\u001b[1;33m)\u001b[0m\u001b[1;33m\u001b[0m\u001b[1;33m\u001b[0m\u001b[0m\n\u001b[0;32m      4\u001b[0m \u001b[0mdf\u001b[0m\u001b[1;33m[\u001b[0m\u001b[1;34m'velosity'\u001b[0m\u001b[1;33m]\u001b[0m\u001b[1;33m=\u001b[0m\u001b[1;32mNone\u001b[0m\u001b[1;33m\u001b[0m\u001b[1;33m\u001b[0m\u001b[0m\n\u001b[0;32m      5\u001b[0m \u001b[0mdf\u001b[0m\u001b[1;33m[\u001b[0m\u001b[1;34m'CrowdLevel'\u001b[0m\u001b[1;33m]\u001b[0m\u001b[1;33m=\u001b[0m\u001b[1;32mNone\u001b[0m\u001b[1;33m\u001b[0m\u001b[1;33m\u001b[0m\u001b[0m\n",
      "\u001b[1;31mNameError\u001b[0m: name 'pd' is not defined"
     ]
    }
   ],
   "source": [
    "import pandas as pd\n",
    "\n",
    "    lng2=getattr(row, 'longitude')\n",
    "    lat2=getattr(row, 'latitude')\n",
    "    time2=getattr(row,'time')\n",
    "    velosity=abs(getDistance(lat1,lng1,lat2,lng2)/(time2-time1))*3600\n",
    "    df.iloc[getattr(row,'Index'),5]=velosity\n",
    "    if velosity>level4:\n",
    "        df.iloc[getattr(row,'Index'),6]=4\n",
    "    elif velosity>level3:\n",
    "        df.iloc[getattr(row,'Index'),6]=3\n",
    "    elif velosity>level2:\n",
    "        df.iloc[getattr(row,'Index'),6]=2\n",
    "    elif velosity>level1:\n",
    "        df.iloc[getattr(row,'Index'),6]=1\n",
    "    else:\n",
    "        df.iloc[getattr(row,'Index'),6]=0\n",
    "    timestamp = getattr(row, 'time')\n",
    "    time_local = time.localtime(timestamp)\n",
    "    df.iloc[getattr(row,'Index'),7]=time_local.tm_wday\n",
    "    df.iloc[getattr(row,'Index'),8]=time_local.tm_hour \n",
    "    df.to_csv('C:\\\\Users\\\\win\\\\Documents\\\\Thesis\\\\Data\\\\source data\\\\gps_20161101.csv',encoding='gbk')"
   ]
  },
  {
   "cell_type": "code",
   "execution_count": 107,
   "metadata": {},
   "outputs": [
    {
     "ename": "IndentationError",
     "evalue": "unexpected indent (<ipython-input-107-43d0b4485e8d>, line 3)",
     "output_type": "error",
     "traceback": [
      "\u001b[1;36m  File \u001b[1;32m\"<ipython-input-107-43d0b4485e8d>\"\u001b[1;36m, line \u001b[1;32m3\u001b[0m\n\u001b[1;33m    if (velosity>level4):\u001b[0m\n\u001b[1;37m    ^\u001b[0m\n\u001b[1;31mIndentationError\u001b[0m\u001b[1;31m:\u001b[0m unexpected indent\n"
     ]
    }
   ],
   "source": [
    "velosity=abs(getDistance(lat1,lng1,lat2,lng2)/(time2-time1))*3600 #calcula a velocidade do veiculo\n",
    "\n",
    "\n",
    "\n",
    "\n",
    "\n",
    "\n",
    "df.iloc[getattr(row,'Index'),5]=velosity\n",
    "    if (velosity>level4):\n",
    "        df.iloc[getattr(row,'Index'),6]=4\n",
    "    elif (velosity>level3):\n",
    "        df.iloc[getattr(row,'Index'),6]=3\n",
    "    elif (velosity>level2):\n",
    "        df.iloc[getattr(row,'Index'),6]=2\n",
    "    elif (velosity>level1):\n",
    "        df.iloc[getattr(row,'Index'),6]=1\n",
    "    else:\n",
    "        df.iloc[getattr(row,'Index'),6]=0\n",
    "        \n",
    " \n",
    "        \n",
    "        "
   ]
  },
  {
   "cell_type": "code",
   "execution_count": null,
   "metadata": {},
   "outputs": [],
   "source": [
    "lat1=lat2"
   ]
  },
  {
   "cell_type": "code",
   "execution_count": null,
   "metadata": {},
   "outputs": [],
   "source": [
    " time1=time2"
   ]
  },
  {
   "cell_type": "code",
   "execution_count": null,
   "metadata": {},
   "outputs": [],
   "source": [
    "lng2=getattr(row, 'longitude')"
   ]
  },
  {
   "cell_type": "code",
   "execution_count": null,
   "metadata": {},
   "outputs": [],
   "source": [
    "lat2=getattr(row, 'latitude')"
   ]
  },
  {
   "cell_type": "code",
   "execution_count": null,
   "metadata": {},
   "outputs": [],
   "source": [
    "  time2=getattr(row,'time')"
   ]
  },
  {
   "cell_type": "code",
   "execution_count": null,
   "metadata": {},
   "outputs": [],
   "source": [
    "df.iloc[getattr(row,'Index'),5]=velosity\n",
    "df.iloc[getattr(row,'Index'),7]=time_local.tm_wday\n",
    "df.iloc[getattr(row,'Index'),8]=time_local.tm_hour "
   ]
  },
  {
   "cell_type": "code",
   "execution_count": null,
   "metadata": {},
   "outputs": [],
   "source": [
    " df.to_csv('C:\\\\Users\\\\win\\\\Documents\\\\Thesis\\\\Data\\\\source data\\\\gps_20161101.csv',encoding='gbk')\n",
    "    "
   ]
  }
 ],
 "metadata": {
  "kernelspec": {
   "display_name": "Python 3",
   "language": "python",
   "name": "python3"
  },
  "language_info": {
   "codemirror_mode": {
    "name": "ipython",
    "version": 3
   },
   "file_extension": ".py",
   "mimetype": "text/x-python",
   "name": "python",
   "nbconvert_exporter": "python",
   "pygments_lexer": "ipython3",
   "version": "3.7.3"
  }
 },
 "nbformat": 4,
 "nbformat_minor": 2
}
